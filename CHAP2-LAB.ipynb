{
 "cells": [
  {
   "cell_type": "markdown",
   "metadata": {},
   "source": [
    "We have a bronze table being loaded into our data lake using a third-party tool. There has been a request to clean up the data and resolve known issues. Your task is to write the needed Python code that will address each of the following issues.\n",
    "\n",
    "The following are the issues present:\n",
    "\n",
    "Wrong column name: The date column is spelled wrong\n",
    "Nulls not correctly identified: The sales_id column has null values as NA strings\n",
    "Data with missing values is unwanted: Any data with a null in sales_id should be dropped\n",
    "Duplicate sales_id: Take the first value of any duplicate rows\n",
    "Date column not DateType: The date column is not a DateType\n"
   ]
  },
  {
   "cell_type": "code",
   "execution_count": 2,
   "metadata": {},
   "outputs": [],
   "source": [
    "from functools import partial\n",
    "from pyspark.sql import SparkSession\n",
    "from pyspark.sql.functions import col, when, regexp_replace, flatten, explode, struct, create_map, array\n",
    "from pyspark.sql.types import StructType,StructField, StringType, IntegerType, ArrayType, TimestampType"
   ]
  },
  {
   "cell_type": "code",
   "execution_count": 4,
   "metadata": {},
   "outputs": [],
   "source": [
    "spark = SparkSession.builder.appName('chap-2').master(\"local[*]\").getOrCreate()"
   ]
  },
  {
   "cell_type": "code",
   "execution_count": 5,
   "metadata": {},
   "outputs": [],
   "source": [
    "bronze_sales = spark.createDataFrame(data = [\n",
    "    (\"1\", \"LA\", \"2000-01-01\",5, 1400),\n",
    "    (\"2\", \"LA\", \"1998-2-01\",4, 1500),\n",
    "    (\"2\", \"LA\", \"1998-2-01\",4, 1500),\n",
    "    (\"3\", \"LA\", \"1997-4-01\",6, 1300),\n",
    "    (\"4\", \"LA\", \"2005-5-01\",2, 1100),\n",
    "    (\"NA\", \"LA\", \"2013-6-01\",1, 1200),\n",
    "  ], schema = [\"sales_id\", \"city\", \"dat\",\" clerk_id\", \"total_sales\"])"
   ]
  },
  {
   "cell_type": "code",
   "execution_count": 6,
   "metadata": {},
   "outputs": [],
   "source": [
    "#Renaming the date column, here i just create a new df with date column renamed and dat column dropped.\n",
    "\n",
    "one = bronze_sales.select(col(\"*\"),col(\"dat\").alias(\"date\")).drop(\"dat\")"
   ]
  },
  {
   "cell_type": "code",
   "execution_count": 7,
   "metadata": {},
   "outputs": [],
   "source": [
    "two = bronze_sales.select(col(\"*\"),when(col('sales_id')== \"NA\", None).otherwise(col(\"sales_id\")).alias(\"Cleaned_sales_id\"))\\\n",
    ".drop(\"sales_id\").select(col(\"*\"),col(\"cleaned_sales_id\").alias(\"sales_id\")) \\\n",
    ".drop(\"cleaned_sales_id\")"
   ]
  },
  {
   "cell_type": "code",
   "execution_count": 8,
   "metadata": {},
   "outputs": [
    {
     "name": "stderr",
     "output_type": "stream",
     "text": [
      "[Stage 0:>                                                          (0 + 1) / 1]\r"
     ]
    },
    {
     "name": "stdout",
     "output_type": "stream",
     "text": [
      "+----+----------+---------+-----------+--------+\n",
      "|city|       dat| clerk_id|total_sales|sales_id|\n",
      "+----+----------+---------+-----------+--------+\n",
      "|  LA|2000-01-01|        5|       1400|       1|\n",
      "|  LA| 1998-2-01|        4|       1500|       2|\n",
      "|  LA| 1998-2-01|        4|       1500|       2|\n",
      "|  LA| 1997-4-01|        6|       1300|       3|\n",
      "|  LA| 2005-5-01|        2|       1100|       4|\n",
      "|  LA| 2013-6-01|        1|       1200|    NULL|\n",
      "+----+----------+---------+-----------+--------+\n",
      "\n"
     ]
    },
    {
     "name": "stderr",
     "output_type": "stream",
     "text": [
      "                                                                                \r"
     ]
    }
   ],
   "source": [
    "two.show()"
   ]
  },
  {
   "cell_type": "code",
   "execution_count": 9,
   "metadata": {},
   "outputs": [
    {
     "name": "stdout",
     "output_type": "stream",
     "text": [
      "+----+----------+---------+-----------+--------+\n",
      "|city|       dat| clerk_id|total_sales|sales_id|\n",
      "+----+----------+---------+-----------+--------+\n",
      "|  LA|2000-01-01|        5|       1400|       1|\n",
      "|  LA| 1998-2-01|        4|       1500|       2|\n",
      "|  LA| 1998-2-01|        4|       1500|       2|\n",
      "|  LA| 1997-4-01|        6|       1300|       3|\n",
      "|  LA| 2005-5-01|        2|       1100|       4|\n",
      "+----+----------+---------+-----------+--------+\n",
      "\n"
     ]
    }
   ],
   "source": [
    "three = two.na.drop(subset=[\"sales_id\"])\n",
    "three.show()"
   ]
  },
  {
   "cell_type": "code",
   "execution_count": 10,
   "metadata": {},
   "outputs": [],
   "source": [
    "four = three.dropDuplicates(subset=[\"sales_id\"])"
   ]
  },
  {
   "cell_type": "code",
   "execution_count": 11,
   "metadata": {},
   "outputs": [
    {
     "name": "stdout",
     "output_type": "stream",
     "text": [
      "+----+----------+---------+-----------+--------+\n",
      "|city|       dat| clerk_id|total_sales|sales_id|\n",
      "+----+----------+---------+-----------+--------+\n",
      "|  LA|2000-01-01|        5|       1400|       1|\n",
      "|  LA| 1998-2-01|        4|       1500|       2|\n",
      "|  LA| 1997-4-01|        6|       1300|       3|\n",
      "|  LA| 2005-5-01|        2|       1100|       4|\n",
      "+----+----------+---------+-----------+--------+\n",
      "\n"
     ]
    }
   ],
   "source": [
    "four.show()"
   ]
  },
  {
   "cell_type": "code",
   "execution_count": 12,
   "metadata": {},
   "outputs": [
    {
     "name": "stdout",
     "output_type": "stream",
     "text": [
      "+----------+\n",
      "|      date|\n",
      "+----------+\n",
      "|2000-01-01|\n",
      "|1998-02-01|\n",
      "|1998-02-01|\n",
      "|1997-04-01|\n",
      "|2005-05-01|\n",
      "|2013-06-01|\n",
      "+----------+\n",
      "\n"
     ]
    }
   ],
   "source": [
    "from pyspark.sql.functions import to_date\n",
    "five = one.select(col(\"*\"),to_date(\"date\").alias(\"date_fixed\"))\\\n",
    ".drop(\"date\") \\\n",
    ".select(col(\"date_fixed\").alias(\"date\"))\\\n",
    ".drop(\"date_fixed\")\\\n",
    ".show()"
   ]
  },
  {
   "cell_type": "code",
   "execution_count": null,
   "metadata": {},
   "outputs": [],
   "source": []
  }
 ],
 "metadata": {
  "kernelspec": {
   "display_name": "chapter2",
   "language": "python",
   "name": "python3"
  },
  "language_info": {
   "codemirror_mode": {
    "name": "ipython",
    "version": 3
   },
   "file_extension": ".py",
   "mimetype": "text/x-python",
   "name": "python",
   "nbconvert_exporter": "python",
   "pygments_lexer": "ipython3",
   "version": "3.12.8"
  }
 },
 "nbformat": 4,
 "nbformat_minor": 2
}
